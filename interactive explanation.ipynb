{
 "cells": [
  {
   "cell_type": "markdown",
   "metadata": {},
   "source": [
    "# 🧮 Python Calculator\n",
    "#### This is a straight forward guide to create basic calculator in python"
   ]
  },
  {
   "cell_type": "markdown",
   "metadata": {},
   "source": [
    "# - First Step: User Interface\n",
    "Define a User Interface, declaring a multiline string variable:"
   ]
  },
  {
   "cell_type": "code",
   "execution_count": 5,
   "metadata": {},
   "outputs": [],
   "source": [
    "import os # we need to import it bcz we are going to use the os module to clear the screen"
   ]
  },
  {
   "cell_type": "code",
   "execution_count": 6,
   "metadata": {},
   "outputs": [],
   "source": [
    "UI = '''\n",
    "Enter:\n",
    "\"add\" for addition\n",
    "\"sub\" for subtraction\n",
    "\"mul\" for multiplication\n",
    "\"div\" for division\n",
    "any other text for quiting \n",
    "'''"
   ]
  },
  {
   "cell_type": "markdown",
   "metadata": {},
   "source": [
    "# - Second Step: Operation Functions\n",
    "Now we have defined the UI, we have to create different functions for different types of calculations using `def`.\n",
    "We will define\n",
    "- `add`: for addition\n",
    "- `sub`: for subtraction\n",
    "- `mul`: for multiplication\n",
    "- `div`: for division"
   ]
  },
  {
   "cell_type": "code",
   "execution_count": 7,
   "metadata": {},
   "outputs": [],
   "source": [
    "def add(operand1, operand2):\n",
    "    return operand1 + operand2\n",
    "\n",
    "def sub(operand1, operand2):\n",
    "    return operand1 + operand2\n",
    "\n",
    "def mul(operand1, operand2):\n",
    "    return operand1 + operand2\n",
    "\n",
    "def div(operand1, operand2):\n",
    "    return operand1 + operand2"
   ]
  },
  {
   "cell_type": "markdown",
   "metadata": {},
   "source": [
    "# - Third Step: Continue Function\n",
    "Now we need a function to let the user decide whether they want to continue calculating or no"
   ]
  },
  {
   "cell_type": "code",
   "execution_count": 8,
   "metadata": {},
   "outputs": [],
   "source": [
    "def continue_calculator():\n",
    "    userOption = input(\"Do you want to continue? (yes/any other text for quitting): \")\n",
    "    if userOption == \"yes\":\n",
    "        os.system(\"clear\")\n",
    "        return True\n",
    "    else:\n",
    "        return False"
   ]
  },
  {
   "cell_type": "markdown",
   "metadata": {},
   "source": [
    "# - Fourth Step: The Main Program Cycle\n",
    "I call it a cycle, because this block of code runs the program in a none ending cycle until & unless user tells it to stop.\n",
    "for achieving such behavior of none ending loop, we will use while loop with the condition `True`, as `True` will always remains `True` so it never ends until we manually end it with `break`.\n",
    "```python\n",
    "while True:\n",
    "    # our logic\n",
    "```\n",
    "I divide this code into 3 parts:\n",
    "- first part is taking operends from user\n",
    "- second part is asking what operation user wants to perform\n",
    "- third part is performance of operation based on user choice\n",
    "---\n",
    "### First Part\n",
    "```python\n",
    "while True:\n",
    "     operend1 = int(input(\"enter first operand: \")) # Taking operand 1\n",
    "     operend2 = int(input(\"enter second operand: \")) # Taking operand 2\n",
    "\n",
    "```\n",
    "### Second Part\n",
    "```python\n",
    "while True:\n",
    "    operend1 = int(input(\"enter first operand: \"))\n",
    "    operend2 = int(input(\"enter second operand: \"))\n",
    "    userOption = input(UI) # Taking user choice in the second part\n",
    "```\n",
    "### Third Part\n",
    "```python\n",
    "while True:\n",
    "    operend1 = int(input(\"enter first operand: \"))\n",
    "    operend2 = int(input(\"enter second operand: \"))\n",
    "    userOption = input(UI)\n",
    "    # the below code is the part 3 which calculates based on the user choice\n",
    "    if userOption == \"add\":\n",
    "        print(add(operand1=operend1, operand2=operend2))\n",
    "        if not continue_calculator():\n",
    "            break \n",
    "    elif userOption == \"sub\":\n",
    "        print(sub(operand1=operend1, operand2=operend2))\n",
    "        if not continue_calculator():\n",
    "            break \n",
    "    elif userOption == \"mul\":\n",
    "        print(mul(operand1=operend1, operand2=operend2))\n",
    "        if not continue_calculator():\n",
    "            break \n",
    "    elif userOption == \"div\":\n",
    "        print(div(operand1=operend1, operand2=operend2))\n",
    "        if not continue_calculator():\n",
    "            break \n",
    "    else:\n",
    "        break\n",
    "```"
   ]
  },
  {
   "cell_type": "code",
   "execution_count": null,
   "metadata": {},
   "outputs": [],
   "source": [
    "while True:\n",
    "    operend1 = int(input(\"enter first operand: \"))\n",
    "    operend2 = int(input(\"enter second operand: \"))\n",
    "    userOption = input(UI)\n",
    "    if userOption == \"add\":\n",
    "        print(add(operand1=operend1, operand2=operend2))\n",
    "        if not continue_calculator():\n",
    "            break \n",
    "    elif userOption == \"sub\":\n",
    "        print(sub(operand1=operend1, operand2=operend2))\n",
    "        if not continue_calculator():\n",
    "            break \n",
    "    elif userOption == \"mul\":\n",
    "        print(mul(operand1=operend1, operand2=operend2))\n",
    "        if not continue_calculator():\n",
    "            break \n",
    "    elif userOption == \"div\":\n",
    "        print(div(operand1=operend1, operand2=operend2))\n",
    "        if not continue_calculator():\n",
    "            break \n",
    "    else:\n",
    "        break"
   ]
  }
 ],
 "metadata": {
  "kernelspec": {
   "display_name": "Python 3",
   "language": "python",
   "name": "python3"
  },
  "language_info": {
   "codemirror_mode": {
    "name": "ipython",
    "version": 3
   },
   "file_extension": ".py",
   "mimetype": "text/x-python",
   "name": "python",
   "nbconvert_exporter": "python",
   "pygments_lexer": "ipython3",
   "version": "3.11.3"
  }
 },
 "nbformat": 4,
 "nbformat_minor": 2
}
